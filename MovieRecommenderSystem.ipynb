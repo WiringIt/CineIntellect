{
 "cells": [
  {
   "cell_type": "code",
   "execution_count": 120,
   "id": "0983e255-7500-43cb-9d22-ac7af359573f",
   "metadata": {},
   "outputs": [],
   "source": [
    "import numpy as np\n",
    "import pandas as pd"
   ]
  },
  {
   "cell_type": "code",
   "execution_count": 121,
   "id": "1bf9e3fd-df5d-4ab5-9569-2f37ec00d676",
   "metadata": {},
   "outputs": [],
   "source": [
    "movies=pd.read_csv('tmdb_5000_movies.csv')\n",
    "credits=pd.read_csv('tmdb_5000_credits.csv')"
   ]
  },
  {
   "cell_type": "code",
   "execution_count": 122,
   "id": "950e95b2-422e-44c4-9b24-e666acbf476c",
   "metadata": {},
   "outputs": [
    {
     "data": {
      "text/html": [
       "<div>\n",
       "<style scoped>\n",
       "    .dataframe tbody tr th:only-of-type {\n",
       "        vertical-align: middle;\n",
       "    }\n",
       "\n",
       "    .dataframe tbody tr th {\n",
       "        vertical-align: top;\n",
       "    }\n",
       "\n",
       "    .dataframe thead th {\n",
       "        text-align: right;\n",
       "    }\n",
       "</style>\n",
       "<table border=\"1\" class=\"dataframe\">\n",
       "  <thead>\n",
       "    <tr style=\"text-align: right;\">\n",
       "      <th></th>\n",
       "      <th>budget</th>\n",
       "      <th>genres</th>\n",
       "      <th>homepage</th>\n",
       "      <th>id</th>\n",
       "      <th>keywords</th>\n",
       "      <th>original_language</th>\n",
       "      <th>original_title</th>\n",
       "      <th>overview</th>\n",
       "      <th>popularity</th>\n",
       "      <th>production_companies</th>\n",
       "      <th>production_countries</th>\n",
       "      <th>release_date</th>\n",
       "      <th>revenue</th>\n",
       "      <th>runtime</th>\n",
       "      <th>spoken_languages</th>\n",
       "      <th>status</th>\n",
       "      <th>tagline</th>\n",
       "      <th>title</th>\n",
       "      <th>vote_average</th>\n",
       "      <th>vote_count</th>\n",
       "    </tr>\n",
       "  </thead>\n",
       "  <tbody>\n",
       "    <tr>\n",
       "      <th>0</th>\n",
       "      <td>237000000</td>\n",
       "      <td>[{\"id\": 28, \"name\": \"Action\"}, {\"id\": 12, \"nam...</td>\n",
       "      <td>http://www.avatarmovie.com/</td>\n",
       "      <td>19995</td>\n",
       "      <td>[{\"id\": 1463, \"name\": \"culture clash\"}, {\"id\":...</td>\n",
       "      <td>en</td>\n",
       "      <td>Avatar</td>\n",
       "      <td>In the 22nd century, a paraplegic Marine is di...</td>\n",
       "      <td>150.437577</td>\n",
       "      <td>[{\"name\": \"Ingenious Film Partners\", \"id\": 289...</td>\n",
       "      <td>[{\"iso_3166_1\": \"US\", \"name\": \"United States o...</td>\n",
       "      <td>2009-12-10</td>\n",
       "      <td>2787965087</td>\n",
       "      <td>162.0</td>\n",
       "      <td>[{\"iso_639_1\": \"en\", \"name\": \"English\"}, {\"iso...</td>\n",
       "      <td>Released</td>\n",
       "      <td>Enter the World of Pandora.</td>\n",
       "      <td>Avatar</td>\n",
       "      <td>7.2</td>\n",
       "      <td>11800</td>\n",
       "    </tr>\n",
       "  </tbody>\n",
       "</table>\n",
       "</div>"
      ],
      "text/plain": [
       "      budget                                             genres  \\\n",
       "0  237000000  [{\"id\": 28, \"name\": \"Action\"}, {\"id\": 12, \"nam...   \n",
       "\n",
       "                      homepage     id  \\\n",
       "0  http://www.avatarmovie.com/  19995   \n",
       "\n",
       "                                            keywords original_language  \\\n",
       "0  [{\"id\": 1463, \"name\": \"culture clash\"}, {\"id\":...                en   \n",
       "\n",
       "  original_title                                           overview  \\\n",
       "0         Avatar  In the 22nd century, a paraplegic Marine is di...   \n",
       "\n",
       "   popularity                               production_companies  \\\n",
       "0  150.437577  [{\"name\": \"Ingenious Film Partners\", \"id\": 289...   \n",
       "\n",
       "                                production_countries release_date     revenue  \\\n",
       "0  [{\"iso_3166_1\": \"US\", \"name\": \"United States o...   2009-12-10  2787965087   \n",
       "\n",
       "   runtime                                   spoken_languages    status  \\\n",
       "0    162.0  [{\"iso_639_1\": \"en\", \"name\": \"English\"}, {\"iso...  Released   \n",
       "\n",
       "                       tagline   title  vote_average  vote_count  \n",
       "0  Enter the World of Pandora.  Avatar           7.2       11800  "
      ]
     },
     "execution_count": 122,
     "metadata": {},
     "output_type": "execute_result"
    }
   ],
   "source": [
    "movies.head(1)"
   ]
  },
  {
   "cell_type": "code",
   "execution_count": 123,
   "id": "f309b895-b76e-4f09-880c-1851b800acf3",
   "metadata": {},
   "outputs": [
    {
     "data": {
      "text/html": [
       "<div>\n",
       "<style scoped>\n",
       "    .dataframe tbody tr th:only-of-type {\n",
       "        vertical-align: middle;\n",
       "    }\n",
       "\n",
       "    .dataframe tbody tr th {\n",
       "        vertical-align: top;\n",
       "    }\n",
       "\n",
       "    .dataframe thead th {\n",
       "        text-align: right;\n",
       "    }\n",
       "</style>\n",
       "<table border=\"1\" class=\"dataframe\">\n",
       "  <thead>\n",
       "    <tr style=\"text-align: right;\">\n",
       "      <th></th>\n",
       "      <th>movie_id</th>\n",
       "      <th>title</th>\n",
       "      <th>cast</th>\n",
       "      <th>crew</th>\n",
       "    </tr>\n",
       "  </thead>\n",
       "  <tbody>\n",
       "    <tr>\n",
       "      <th>0</th>\n",
       "      <td>19995</td>\n",
       "      <td>Avatar</td>\n",
       "      <td>[{\"cast_id\": 242, \"character\": \"Jake Sully\", \"...</td>\n",
       "      <td>[{\"credit_id\": \"52fe48009251416c750aca23\", \"de...</td>\n",
       "    </tr>\n",
       "  </tbody>\n",
       "</table>\n",
       "</div>"
      ],
      "text/plain": [
       "   movie_id   title                                               cast  \\\n",
       "0     19995  Avatar  [{\"cast_id\": 242, \"character\": \"Jake Sully\", \"...   \n",
       "\n",
       "                                                crew  \n",
       "0  [{\"credit_id\": \"52fe48009251416c750aca23\", \"de...  "
      ]
     },
     "execution_count": 123,
     "metadata": {},
     "output_type": "execute_result"
    }
   ],
   "source": [
    "credits.head(1)"
   ]
  },
  {
   "cell_type": "markdown",
   "id": "e72763e0-3d4d-40ef-8b02-de9cb7af2fc7",
   "metadata": {},
   "source": [
    "### Merging two dataframes on the basis of the column \"title\""
   ]
  },
  {
   "cell_type": "code",
   "execution_count": 125,
   "id": "7c452d19-ad1d-4129-b5a7-ee745847297e",
   "metadata": {},
   "outputs": [],
   "source": [
    "movies=movies.merge(credits,on=\"title\")"
   ]
  },
  {
   "cell_type": "code",
   "execution_count": 126,
   "id": "90acc4e4-1adb-4702-9a29-ebcd22323a74",
   "metadata": {},
   "outputs": [
    {
     "data": {
      "text/html": [
       "<div>\n",
       "<style scoped>\n",
       "    .dataframe tbody tr th:only-of-type {\n",
       "        vertical-align: middle;\n",
       "    }\n",
       "\n",
       "    .dataframe tbody tr th {\n",
       "        vertical-align: top;\n",
       "    }\n",
       "\n",
       "    .dataframe thead th {\n",
       "        text-align: right;\n",
       "    }\n",
       "</style>\n",
       "<table border=\"1\" class=\"dataframe\">\n",
       "  <thead>\n",
       "    <tr style=\"text-align: right;\">\n",
       "      <th></th>\n",
       "      <th>budget</th>\n",
       "      <th>genres</th>\n",
       "      <th>homepage</th>\n",
       "      <th>id</th>\n",
       "      <th>keywords</th>\n",
       "      <th>original_language</th>\n",
       "      <th>original_title</th>\n",
       "      <th>overview</th>\n",
       "      <th>popularity</th>\n",
       "      <th>production_companies</th>\n",
       "      <th>...</th>\n",
       "      <th>runtime</th>\n",
       "      <th>spoken_languages</th>\n",
       "      <th>status</th>\n",
       "      <th>tagline</th>\n",
       "      <th>title</th>\n",
       "      <th>vote_average</th>\n",
       "      <th>vote_count</th>\n",
       "      <th>movie_id</th>\n",
       "      <th>cast</th>\n",
       "      <th>crew</th>\n",
       "    </tr>\n",
       "  </thead>\n",
       "  <tbody>\n",
       "    <tr>\n",
       "      <th>0</th>\n",
       "      <td>237000000</td>\n",
       "      <td>[{\"id\": 28, \"name\": \"Action\"}, {\"id\": 12, \"nam...</td>\n",
       "      <td>http://www.avatarmovie.com/</td>\n",
       "      <td>19995</td>\n",
       "      <td>[{\"id\": 1463, \"name\": \"culture clash\"}, {\"id\":...</td>\n",
       "      <td>en</td>\n",
       "      <td>Avatar</td>\n",
       "      <td>In the 22nd century, a paraplegic Marine is di...</td>\n",
       "      <td>150.437577</td>\n",
       "      <td>[{\"name\": \"Ingenious Film Partners\", \"id\": 289...</td>\n",
       "      <td>...</td>\n",
       "      <td>162.0</td>\n",
       "      <td>[{\"iso_639_1\": \"en\", \"name\": \"English\"}, {\"iso...</td>\n",
       "      <td>Released</td>\n",
       "      <td>Enter the World of Pandora.</td>\n",
       "      <td>Avatar</td>\n",
       "      <td>7.2</td>\n",
       "      <td>11800</td>\n",
       "      <td>19995</td>\n",
       "      <td>[{\"cast_id\": 242, \"character\": \"Jake Sully\", \"...</td>\n",
       "      <td>[{\"credit_id\": \"52fe48009251416c750aca23\", \"de...</td>\n",
       "    </tr>\n",
       "  </tbody>\n",
       "</table>\n",
       "<p>1 rows × 23 columns</p>\n",
       "</div>"
      ],
      "text/plain": [
       "      budget                                             genres  \\\n",
       "0  237000000  [{\"id\": 28, \"name\": \"Action\"}, {\"id\": 12, \"nam...   \n",
       "\n",
       "                      homepage     id  \\\n",
       "0  http://www.avatarmovie.com/  19995   \n",
       "\n",
       "                                            keywords original_language  \\\n",
       "0  [{\"id\": 1463, \"name\": \"culture clash\"}, {\"id\":...                en   \n",
       "\n",
       "  original_title                                           overview  \\\n",
       "0         Avatar  In the 22nd century, a paraplegic Marine is di...   \n",
       "\n",
       "   popularity                               production_companies  ... runtime  \\\n",
       "0  150.437577  [{\"name\": \"Ingenious Film Partners\", \"id\": 289...  ...   162.0   \n",
       "\n",
       "                                    spoken_languages    status  \\\n",
       "0  [{\"iso_639_1\": \"en\", \"name\": \"English\"}, {\"iso...  Released   \n",
       "\n",
       "                       tagline   title vote_average vote_count movie_id  \\\n",
       "0  Enter the World of Pandora.  Avatar          7.2      11800    19995   \n",
       "\n",
       "                                                cast  \\\n",
       "0  [{\"cast_id\": 242, \"character\": \"Jake Sully\", \"...   \n",
       "\n",
       "                                                crew  \n",
       "0  [{\"credit_id\": \"52fe48009251416c750aca23\", \"de...  \n",
       "\n",
       "[1 rows x 23 columns]"
      ]
     },
     "execution_count": 126,
     "metadata": {},
     "output_type": "execute_result"
    }
   ],
   "source": [
    "movies.head(1)"
   ]
  },
  {
   "cell_type": "markdown",
   "id": "f9523d1e-5be6-44f6-8571-a7f2f284389f",
   "metadata": {},
   "source": [
    "### Now we need to analyse which columns are unimportant\n",
    "#### Since we're making a \"content based recommender system\" we need to ask ourselves which columns we need to create the \"tags\"\n",
    "1. genres\n",
    "2. id(for picking movie teasers)\n",
    "3. keywords\n",
    "4. title(not the original one, since we may not know the regional language)\n",
    "5. overview(testing similarity of movies)\n",
    "6. cast\n",
    "7. crew\n",
    "<br>\n",
    "(Numerical columns have not been included)"
   ]
  },
  {
   "cell_type": "code",
   "execution_count": 128,
   "id": "5014f18b-5c9a-4f2c-8572-a45213b7ea63",
   "metadata": {},
   "outputs": [],
   "source": [
    "movies=movies[['movie_id','title','overview','genres','keywords','cast','crew']]"
   ]
  },
  {
   "cell_type": "markdown",
   "id": "31838689-28a0-4012-9d04-2eb0defaf0f0",
   "metadata": {},
   "source": [
    "## Preprocessing\n",
    "### Target: Merge Overviews, genres, keywords, 'cast' and 'crew' to make a single column called tag.\n",
    "#### 1. Missing Values"
   ]
  },
  {
   "cell_type": "code",
   "execution_count": 130,
   "id": "4cd77619-6a84-45a6-a371-e7c3a496046b",
   "metadata": {},
   "outputs": [
    {
     "data": {
      "text/plain": [
       "movie_id    0\n",
       "title       0\n",
       "overview    3\n",
       "genres      0\n",
       "keywords    0\n",
       "cast        0\n",
       "crew        0\n",
       "dtype: int64"
      ]
     },
     "execution_count": 130,
     "metadata": {},
     "output_type": "execute_result"
    }
   ],
   "source": [
    "movies.isnull().sum()"
   ]
  },
  {
   "cell_type": "code",
   "execution_count": 131,
   "id": "a5f14739-1870-448d-bc31-15ae54a82409",
   "metadata": {},
   "outputs": [],
   "source": [
    "movies.dropna(inplace=True)"
   ]
  },
  {
   "cell_type": "markdown",
   "id": "461c2718-bf3a-4783-8135-e02c01ceb62a",
   "metadata": {},
   "source": [
    "#### 2. Check for Duplicate values"
   ]
  },
  {
   "cell_type": "code",
   "execution_count": 133,
   "id": "151f7900-160f-4e5f-8d79-8d20b7e0c496",
   "metadata": {},
   "outputs": [
    {
     "data": {
      "text/plain": [
       "0"
      ]
     },
     "execution_count": 133,
     "metadata": {},
     "output_type": "execute_result"
    }
   ],
   "source": [
    "movies.duplicated().sum()"
   ]
  },
  {
   "cell_type": "markdown",
   "id": "17a6843e-b5e6-4aae-8b44-9c2aa2c21c04",
   "metadata": {},
   "source": [
    "#### 3. We need to format the genres column as:\n",
    "[{\"id\": 28, \"name\": \"Action\"}, {\"id\": 12, \"name\": \"Adventure\"}, {\"id\": 14, \"name\": \"Fantasy\"}, {\"id\": 878, \"name\": \"Science Fiction\"}]\n",
    "<br>\n",
    "#### ['Action','Adventure','Fantasy','Science Fiction']"
   ]
  },
  {
   "cell_type": "code",
   "execution_count": 135,
   "id": "0e9ca6ee-ab80-4f73-9223-3015795e50a2",
   "metadata": {},
   "outputs": [
    {
     "data": {
      "text/plain": [
       "'[{\"id\": 28, \"name\": \"Action\"}, {\"id\": 12, \"name\": \"Adventure\"}, {\"id\": 14, \"name\": \"Fantasy\"}, {\"id\": 878, \"name\": \"Science Fiction\"}]'"
      ]
     },
     "execution_count": 135,
     "metadata": {},
     "output_type": "execute_result"
    }
   ],
   "source": [
    "movies.iloc[0].genres"
   ]
  },
  {
   "cell_type": "markdown",
   "id": "b73826b6-a018-4927-a4f7-bf0ca86dc17e",
   "metadata": {},
   "source": [
    "#### Notice here, the entire object is a string. We need to convert it to a proper dictionary format. Hence we use the ast.literal_eval() function"
   ]
  },
  {
   "cell_type": "code",
   "execution_count": 137,
   "id": "f184cb30-2e11-4471-bf2f-7b5f3c382add",
   "metadata": {},
   "outputs": [],
   "source": [
    "import ast"
   ]
  },
  {
   "cell_type": "code",
   "execution_count": 138,
   "id": "14447a45-2e91-4e5d-b690-f0822b57eeba",
   "metadata": {},
   "outputs": [],
   "source": [
    "def convert(obj):\n",
    "    L=[]\n",
    "    for i in ast.literal_eval(obj):\n",
    "        L.append(i['name'])\n",
    "    return L"
   ]
  },
  {
   "cell_type": "code",
   "execution_count": 139,
   "id": "f2c72eff-4877-4819-acfb-dabd9b57166f",
   "metadata": {},
   "outputs": [],
   "source": [
    "movies['genres']=movies['genres'].apply(convert)"
   ]
  },
  {
   "cell_type": "code",
   "execution_count": 140,
   "id": "b6d7665b-7fad-4d4a-b9aa-b46737b8d5d7",
   "metadata": {},
   "outputs": [],
   "source": [
    "movies['keywords']=movies['keywords'].apply(convert)"
   ]
  },
  {
   "cell_type": "code",
   "execution_count": 141,
   "id": "f65b617f-c427-4c87-8c89-efc9120f9c51",
   "metadata": {},
   "outputs": [
    {
     "data": {
      "text/html": [
       "<div>\n",
       "<style scoped>\n",
       "    .dataframe tbody tr th:only-of-type {\n",
       "        vertical-align: middle;\n",
       "    }\n",
       "\n",
       "    .dataframe tbody tr th {\n",
       "        vertical-align: top;\n",
       "    }\n",
       "\n",
       "    .dataframe thead th {\n",
       "        text-align: right;\n",
       "    }\n",
       "</style>\n",
       "<table border=\"1\" class=\"dataframe\">\n",
       "  <thead>\n",
       "    <tr style=\"text-align: right;\">\n",
       "      <th></th>\n",
       "      <th>movie_id</th>\n",
       "      <th>title</th>\n",
       "      <th>overview</th>\n",
       "      <th>genres</th>\n",
       "      <th>keywords</th>\n",
       "      <th>cast</th>\n",
       "      <th>crew</th>\n",
       "    </tr>\n",
       "  </thead>\n",
       "  <tbody>\n",
       "    <tr>\n",
       "      <th>0</th>\n",
       "      <td>19995</td>\n",
       "      <td>Avatar</td>\n",
       "      <td>In the 22nd century, a paraplegic Marine is di...</td>\n",
       "      <td>[Action, Adventure, Fantasy, Science Fiction]</td>\n",
       "      <td>[culture clash, future, space war, space colon...</td>\n",
       "      <td>[{\"cast_id\": 242, \"character\": \"Jake Sully\", \"...</td>\n",
       "      <td>[{\"credit_id\": \"52fe48009251416c750aca23\", \"de...</td>\n",
       "    </tr>\n",
       "  </tbody>\n",
       "</table>\n",
       "</div>"
      ],
      "text/plain": [
       "   movie_id   title                                           overview  \\\n",
       "0     19995  Avatar  In the 22nd century, a paraplegic Marine is di...   \n",
       "\n",
       "                                          genres  \\\n",
       "0  [Action, Adventure, Fantasy, Science Fiction]   \n",
       "\n",
       "                                            keywords  \\\n",
       "0  [culture clash, future, space war, space colon...   \n",
       "\n",
       "                                                cast  \\\n",
       "0  [{\"cast_id\": 242, \"character\": \"Jake Sully\", \"...   \n",
       "\n",
       "                                                crew  \n",
       "0  [{\"credit_id\": \"52fe48009251416c750aca23\", \"de...  "
      ]
     },
     "execution_count": 141,
     "metadata": {},
     "output_type": "execute_result"
    }
   ],
   "source": [
    "movies.head(1)"
   ]
  },
  {
   "cell_type": "markdown",
   "id": "76b507b4-908c-4b71-ad03-3ff87b2f7547",
   "metadata": {},
   "source": [
    "#### 4. For the cast column, we need to pick the actual names of first 3 actors"
   ]
  },
  {
   "cell_type": "code",
   "execution_count": 143,
   "id": "ba87648e-c12c-4d18-be35-e0a7381c5597",
   "metadata": {},
   "outputs": [],
   "source": [
    "def convert_cast(obj):\n",
    "    L=[]\n",
    "    counter=0\n",
    "    for i in ast.literal_eval(obj):\n",
    "        if counter!=3:\n",
    "            L.append(i['name'])\n",
    "            counter+=1\n",
    "        else:\n",
    "            break\n",
    "    return L"
   ]
  },
  {
   "cell_type": "code",
   "execution_count": 144,
   "id": "7addcca5-45a6-4324-8c8b-507dad8a588c",
   "metadata": {},
   "outputs": [],
   "source": [
    "movies['cast']=movies['cast'].apply(convert_cast)"
   ]
  },
  {
   "cell_type": "code",
   "execution_count": 145,
   "id": "98cb6886-ca8b-47f2-8591-9f92971abfff",
   "metadata": {},
   "outputs": [
    {
     "data": {
      "text/html": [
       "<div>\n",
       "<style scoped>\n",
       "    .dataframe tbody tr th:only-of-type {\n",
       "        vertical-align: middle;\n",
       "    }\n",
       "\n",
       "    .dataframe tbody tr th {\n",
       "        vertical-align: top;\n",
       "    }\n",
       "\n",
       "    .dataframe thead th {\n",
       "        text-align: right;\n",
       "    }\n",
       "</style>\n",
       "<table border=\"1\" class=\"dataframe\">\n",
       "  <thead>\n",
       "    <tr style=\"text-align: right;\">\n",
       "      <th></th>\n",
       "      <th>movie_id</th>\n",
       "      <th>title</th>\n",
       "      <th>overview</th>\n",
       "      <th>genres</th>\n",
       "      <th>keywords</th>\n",
       "      <th>cast</th>\n",
       "      <th>crew</th>\n",
       "    </tr>\n",
       "  </thead>\n",
       "  <tbody>\n",
       "    <tr>\n",
       "      <th>0</th>\n",
       "      <td>19995</td>\n",
       "      <td>Avatar</td>\n",
       "      <td>In the 22nd century, a paraplegic Marine is di...</td>\n",
       "      <td>[Action, Adventure, Fantasy, Science Fiction]</td>\n",
       "      <td>[culture clash, future, space war, space colon...</td>\n",
       "      <td>[Sam Worthington, Zoe Saldana, Sigourney Weaver]</td>\n",
       "      <td>[{\"credit_id\": \"52fe48009251416c750aca23\", \"de...</td>\n",
       "    </tr>\n",
       "  </tbody>\n",
       "</table>\n",
       "</div>"
      ],
      "text/plain": [
       "   movie_id   title                                           overview  \\\n",
       "0     19995  Avatar  In the 22nd century, a paraplegic Marine is di...   \n",
       "\n",
       "                                          genres  \\\n",
       "0  [Action, Adventure, Fantasy, Science Fiction]   \n",
       "\n",
       "                                            keywords  \\\n",
       "0  [culture clash, future, space war, space colon...   \n",
       "\n",
       "                                               cast  \\\n",
       "0  [Sam Worthington, Zoe Saldana, Sigourney Weaver]   \n",
       "\n",
       "                                                crew  \n",
       "0  [{\"credit_id\": \"52fe48009251416c750aca23\", \"de...  "
      ]
     },
     "execution_count": 145,
     "metadata": {},
     "output_type": "execute_result"
    }
   ],
   "source": [
    "movies.head(1)"
   ]
  },
  {
   "cell_type": "markdown",
   "id": "59877430-7fe8-4d30-910c-979fa4019a0d",
   "metadata": {},
   "source": [
    "#### 5. For the crew column, we need to pick the 'name' of that element whose 'job' field is 'Director'"
   ]
  },
  {
   "cell_type": "code",
   "execution_count": 147,
   "id": "3f863663-59d2-4af1-953c-e40237b353a8",
   "metadata": {},
   "outputs": [],
   "source": [
    "def fetch_director(obj):\n",
    "    l=[]\n",
    "    for i in ast.literal_eval(obj):\n",
    "        if i['job']=='Director':\n",
    "            l.append(i['name'])\n",
    "            break\n",
    "    return l"
   ]
  },
  {
   "cell_type": "code",
   "execution_count": 148,
   "id": "5a043832-6482-4513-b8b4-a46da96cf8c9",
   "metadata": {},
   "outputs": [
    {
     "data": {
      "text/html": [
       "<div>\n",
       "<style scoped>\n",
       "    .dataframe tbody tr th:only-of-type {\n",
       "        vertical-align: middle;\n",
       "    }\n",
       "\n",
       "    .dataframe tbody tr th {\n",
       "        vertical-align: top;\n",
       "    }\n",
       "\n",
       "    .dataframe thead th {\n",
       "        text-align: right;\n",
       "    }\n",
       "</style>\n",
       "<table border=\"1\" class=\"dataframe\">\n",
       "  <thead>\n",
       "    <tr style=\"text-align: right;\">\n",
       "      <th></th>\n",
       "      <th>movie_id</th>\n",
       "      <th>title</th>\n",
       "      <th>overview</th>\n",
       "      <th>genres</th>\n",
       "      <th>keywords</th>\n",
       "      <th>cast</th>\n",
       "      <th>crew</th>\n",
       "    </tr>\n",
       "  </thead>\n",
       "  <tbody>\n",
       "    <tr>\n",
       "      <th>0</th>\n",
       "      <td>19995</td>\n",
       "      <td>Avatar</td>\n",
       "      <td>In the 22nd century, a paraplegic Marine is di...</td>\n",
       "      <td>[Action, Adventure, Fantasy, Science Fiction]</td>\n",
       "      <td>[culture clash, future, space war, space colon...</td>\n",
       "      <td>[Sam Worthington, Zoe Saldana, Sigourney Weaver]</td>\n",
       "      <td>[James Cameron]</td>\n",
       "    </tr>\n",
       "  </tbody>\n",
       "</table>\n",
       "</div>"
      ],
      "text/plain": [
       "   movie_id   title                                           overview  \\\n",
       "0     19995  Avatar  In the 22nd century, a paraplegic Marine is di...   \n",
       "\n",
       "                                          genres  \\\n",
       "0  [Action, Adventure, Fantasy, Science Fiction]   \n",
       "\n",
       "                                            keywords  \\\n",
       "0  [culture clash, future, space war, space colon...   \n",
       "\n",
       "                                               cast             crew  \n",
       "0  [Sam Worthington, Zoe Saldana, Sigourney Weaver]  [James Cameron]  "
      ]
     },
     "execution_count": 148,
     "metadata": {},
     "output_type": "execute_result"
    }
   ],
   "source": [
    "movies['crew']=movies['crew'].apply(fetch_director)\n",
    "movies.head(1)"
   ]
  },
  {
   "cell_type": "markdown",
   "id": "29893300-b104-432f-8e8a-83230b68f839",
   "metadata": {},
   "source": [
    "#### 6. Overview is also in 'string' format. We'll convert it into a list for easier processing and comaptibility with other columns"
   ]
  },
  {
   "cell_type": "code",
   "execution_count": 150,
   "id": "b94ed978-d724-453c-b111-8836b5ab9b01",
   "metadata": {},
   "outputs": [
    {
     "data": {
      "text/html": [
       "<div>\n",
       "<style scoped>\n",
       "    .dataframe tbody tr th:only-of-type {\n",
       "        vertical-align: middle;\n",
       "    }\n",
       "\n",
       "    .dataframe tbody tr th {\n",
       "        vertical-align: top;\n",
       "    }\n",
       "\n",
       "    .dataframe thead th {\n",
       "        text-align: right;\n",
       "    }\n",
       "</style>\n",
       "<table border=\"1\" class=\"dataframe\">\n",
       "  <thead>\n",
       "    <tr style=\"text-align: right;\">\n",
       "      <th></th>\n",
       "      <th>movie_id</th>\n",
       "      <th>title</th>\n",
       "      <th>overview</th>\n",
       "      <th>genres</th>\n",
       "      <th>keywords</th>\n",
       "      <th>cast</th>\n",
       "      <th>crew</th>\n",
       "    </tr>\n",
       "  </thead>\n",
       "  <tbody>\n",
       "    <tr>\n",
       "      <th>0</th>\n",
       "      <td>19995</td>\n",
       "      <td>Avatar</td>\n",
       "      <td>[In, the, 22nd, century,, a, paraplegic, Marin...</td>\n",
       "      <td>[Action, Adventure, Fantasy, Science Fiction]</td>\n",
       "      <td>[culture clash, future, space war, space colon...</td>\n",
       "      <td>[Sam Worthington, Zoe Saldana, Sigourney Weaver]</td>\n",
       "      <td>[James Cameron]</td>\n",
       "    </tr>\n",
       "  </tbody>\n",
       "</table>\n",
       "</div>"
      ],
      "text/plain": [
       "   movie_id   title                                           overview  \\\n",
       "0     19995  Avatar  [In, the, 22nd, century,, a, paraplegic, Marin...   \n",
       "\n",
       "                                          genres  \\\n",
       "0  [Action, Adventure, Fantasy, Science Fiction]   \n",
       "\n",
       "                                            keywords  \\\n",
       "0  [culture clash, future, space war, space colon...   \n",
       "\n",
       "                                               cast             crew  \n",
       "0  [Sam Worthington, Zoe Saldana, Sigourney Weaver]  [James Cameron]  "
      ]
     },
     "execution_count": 150,
     "metadata": {},
     "output_type": "execute_result"
    }
   ],
   "source": [
    "movies['overview']=movies['overview'].apply(lambda x:x.split())\n",
    "movies.head(1)"
   ]
  },
  {
   "cell_type": "markdown",
   "id": "c0294160-72e9-4f66-966d-113ac2097228",
   "metadata": {},
   "source": [
    "#### 7. Next, the thing is, space between two words of a same entity has to be removed. Why?\n",
    "##### Imagine, two Directors Sam Worthington and Sam Mendes. Suppose a user loves Sam , Worthington movies. If our recommendation system solely segregates on the basis of 'Sam', Sam Mendes movies may get recommended instead of Worthington's. So for easier understanding by our model, we remove the space and hence change it to: 'SanWorthington'"
   ]
  },
  {
   "cell_type": "code",
   "execution_count": 152,
   "id": "cc67c4e4-9737-40ad-b406-ec384093c44d",
   "metadata": {},
   "outputs": [],
   "source": [
    "movies['genres']=movies['genres'].apply(lambda x: [i.replace(\" \", \"\") for i in x])\n",
    "movies['keywords']=movies['keywords'].apply(lambda x: [i.replace(\" \", \"\") for i in x])\n",
    "movies['cast']=movies['cast'].apply(lambda x: [i.replace(\" \", \"\") for i in x])\n",
    "movies['crew']=movies['crew'].apply(lambda x: [i.replace(\" \", \"\") for i in x])"
   ]
  },
  {
   "cell_type": "code",
   "execution_count": 153,
   "id": "ca1c4559-21e7-477d-963f-36093c24a7c4",
   "metadata": {},
   "outputs": [
    {
     "data": {
      "text/html": [
       "<div>\n",
       "<style scoped>\n",
       "    .dataframe tbody tr th:only-of-type {\n",
       "        vertical-align: middle;\n",
       "    }\n",
       "\n",
       "    .dataframe tbody tr th {\n",
       "        vertical-align: top;\n",
       "    }\n",
       "\n",
       "    .dataframe thead th {\n",
       "        text-align: right;\n",
       "    }\n",
       "</style>\n",
       "<table border=\"1\" class=\"dataframe\">\n",
       "  <thead>\n",
       "    <tr style=\"text-align: right;\">\n",
       "      <th></th>\n",
       "      <th>movie_id</th>\n",
       "      <th>title</th>\n",
       "      <th>overview</th>\n",
       "      <th>genres</th>\n",
       "      <th>keywords</th>\n",
       "      <th>cast</th>\n",
       "      <th>crew</th>\n",
       "    </tr>\n",
       "  </thead>\n",
       "  <tbody>\n",
       "    <tr>\n",
       "      <th>0</th>\n",
       "      <td>19995</td>\n",
       "      <td>Avatar</td>\n",
       "      <td>[In, the, 22nd, century,, a, paraplegic, Marin...</td>\n",
       "      <td>[Action, Adventure, Fantasy, ScienceFiction]</td>\n",
       "      <td>[cultureclash, future, spacewar, spacecolony, ...</td>\n",
       "      <td>[SamWorthington, ZoeSaldana, SigourneyWeaver]</td>\n",
       "      <td>[JamesCameron]</td>\n",
       "    </tr>\n",
       "  </tbody>\n",
       "</table>\n",
       "</div>"
      ],
      "text/plain": [
       "   movie_id   title                                           overview  \\\n",
       "0     19995  Avatar  [In, the, 22nd, century,, a, paraplegic, Marin...   \n",
       "\n",
       "                                         genres  \\\n",
       "0  [Action, Adventure, Fantasy, ScienceFiction]   \n",
       "\n",
       "                                            keywords  \\\n",
       "0  [cultureclash, future, spacewar, spacecolony, ...   \n",
       "\n",
       "                                            cast            crew  \n",
       "0  [SamWorthington, ZoeSaldana, SigourneyWeaver]  [JamesCameron]  "
      ]
     },
     "execution_count": 153,
     "metadata": {},
     "output_type": "execute_result"
    }
   ],
   "source": [
    "movies.head(1)"
   ]
  },
  {
   "cell_type": "code",
   "execution_count": 154,
   "id": "ec03e48a-ef09-4c43-a0bd-ab11b974b3a7",
   "metadata": {},
   "outputs": [],
   "source": [
    "movies['tags']=movies['overview']+movies['genres']+movies['keywords']+movies['cast']+movies['crew']"
   ]
  },
  {
   "cell_type": "code",
   "execution_count": 155,
   "id": "bd630038-5b18-4ac4-a5d3-4c8429e85e89",
   "metadata": {},
   "outputs": [],
   "source": [
    "new_df=movies[['movie_id','title','tags']]"
   ]
  },
  {
   "cell_type": "markdown",
   "id": "32fffa34-4486-460e-8010-04805122e5cc",
   "metadata": {},
   "source": [
    "#### 8. Converting the lists to strings"
   ]
  },
  {
   "cell_type": "code",
   "execution_count": 157,
   "id": "46fae272-a5b7-4386-8ebe-8ae1737a0c6b",
   "metadata": {},
   "outputs": [
    {
     "name": "stderr",
     "output_type": "stream",
     "text": [
      "C:\\Users\\samri\\AppData\\Local\\Temp\\ipykernel_3000\\487797088.py:1: SettingWithCopyWarning: \n",
      "A value is trying to be set on a copy of a slice from a DataFrame.\n",
      "Try using .loc[row_indexer,col_indexer] = value instead\n",
      "\n",
      "See the caveats in the documentation: https://pandas.pydata.org/pandas-docs/stable/user_guide/indexing.html#returning-a-view-versus-a-copy\n",
      "  new_df['tags']=new_df['tags'].apply(lambda x:\" \".join(x))\n"
     ]
    }
   ],
   "source": [
    "new_df['tags']=new_df['tags'].apply(lambda x:\" \".join(x))"
   ]
  },
  {
   "cell_type": "code",
   "execution_count": 158,
   "id": "6d238432-4db5-4860-be73-0cf0eb034263",
   "metadata": {},
   "outputs": [
    {
     "data": {
      "text/html": [
       "<div>\n",
       "<style scoped>\n",
       "    .dataframe tbody tr th:only-of-type {\n",
       "        vertical-align: middle;\n",
       "    }\n",
       "\n",
       "    .dataframe tbody tr th {\n",
       "        vertical-align: top;\n",
       "    }\n",
       "\n",
       "    .dataframe thead th {\n",
       "        text-align: right;\n",
       "    }\n",
       "</style>\n",
       "<table border=\"1\" class=\"dataframe\">\n",
       "  <thead>\n",
       "    <tr style=\"text-align: right;\">\n",
       "      <th></th>\n",
       "      <th>movie_id</th>\n",
       "      <th>title</th>\n",
       "      <th>tags</th>\n",
       "    </tr>\n",
       "  </thead>\n",
       "  <tbody>\n",
       "    <tr>\n",
       "      <th>0</th>\n",
       "      <td>19995</td>\n",
       "      <td>Avatar</td>\n",
       "      <td>In the 22nd century, a paraplegic Marine is di...</td>\n",
       "    </tr>\n",
       "    <tr>\n",
       "      <th>1</th>\n",
       "      <td>285</td>\n",
       "      <td>Pirates of the Caribbean: At World's End</td>\n",
       "      <td>Captain Barbossa, long believed to be dead, ha...</td>\n",
       "    </tr>\n",
       "    <tr>\n",
       "      <th>2</th>\n",
       "      <td>206647</td>\n",
       "      <td>Spectre</td>\n",
       "      <td>A cryptic message from Bond’s past sends him o...</td>\n",
       "    </tr>\n",
       "    <tr>\n",
       "      <th>3</th>\n",
       "      <td>49026</td>\n",
       "      <td>The Dark Knight Rises</td>\n",
       "      <td>Following the death of District Attorney Harve...</td>\n",
       "    </tr>\n",
       "    <tr>\n",
       "      <th>4</th>\n",
       "      <td>49529</td>\n",
       "      <td>John Carter</td>\n",
       "      <td>John Carter is a war-weary, former military ca...</td>\n",
       "    </tr>\n",
       "  </tbody>\n",
       "</table>\n",
       "</div>"
      ],
      "text/plain": [
       "   movie_id                                     title  \\\n",
       "0     19995                                    Avatar   \n",
       "1       285  Pirates of the Caribbean: At World's End   \n",
       "2    206647                                   Spectre   \n",
       "3     49026                     The Dark Knight Rises   \n",
       "4     49529                               John Carter   \n",
       "\n",
       "                                                tags  \n",
       "0  In the 22nd century, a paraplegic Marine is di...  \n",
       "1  Captain Barbossa, long believed to be dead, ha...  \n",
       "2  A cryptic message from Bond’s past sends him o...  \n",
       "3  Following the death of District Attorney Harve...  \n",
       "4  John Carter is a war-weary, former military ca...  "
      ]
     },
     "execution_count": 158,
     "metadata": {},
     "output_type": "execute_result"
    }
   ],
   "source": [
    "new_df.head()"
   ]
  },
  {
   "cell_type": "code",
   "execution_count": 159,
   "id": "5bcae50b-15bf-402a-a429-63616885cb6c",
   "metadata": {},
   "outputs": [
    {
     "data": {
      "text/plain": [
       "0       in the 22nd century, a paraplegic marine is di...\n",
       "1       captain barbossa, long believed to be dead, ha...\n",
       "2       a cryptic message from bond’s past sends him o...\n",
       "3       following the death of district attorney harve...\n",
       "4       john carter is a war-weary, former military ca...\n",
       "                              ...                        \n",
       "4804    el mariachi just wants to play his guitar and ...\n",
       "4805    a newlywed couple's honeymoon is upended by th...\n",
       "4806    \"signed, sealed, delivered\" introduces a dedic...\n",
       "4807    when ambitious new york attorney sam is sent t...\n",
       "4808    ever since the second grade when he first saw ...\n",
       "Name: tags, Length: 4806, dtype: object"
      ]
     },
     "execution_count": 159,
     "metadata": {},
     "output_type": "execute_result"
    }
   ],
   "source": [
    "new_df['tags'].apply(lambda x: x.lower())"
   ]
  },
  {
   "cell_type": "markdown",
   "id": "a53ecaab-e4ba-4d44-b05a-3b2a4ab256c8",
   "metadata": {},
   "source": [
    "#### Applying stemming here"
   ]
  },
  {
   "cell_type": "code",
   "execution_count": 161,
   "id": "01712699-b8e5-4869-98d7-da947fb6a11f",
   "metadata": {},
   "outputs": [],
   "source": [
    "import nltk\n",
    "from nltk.stem.porter import PorterStemmer\n",
    "ps=PorterStemmer()"
   ]
  },
  {
   "cell_type": "code",
   "execution_count": 162,
   "id": "e6caf6b8-711b-4bc5-870e-2a5964d82c40",
   "metadata": {},
   "outputs": [],
   "source": [
    "def stem(text):\n",
    "    y=[]\n",
    "    for i in text.split():\n",
    "        y.append(ps.stem(i))\n",
    "    return \" \".join(y)"
   ]
  },
  {
   "cell_type": "code",
   "execution_count": 163,
   "id": "f2713e56-35e6-4de6-8e23-15aace698ea5",
   "metadata": {},
   "outputs": [
    {
     "name": "stderr",
     "output_type": "stream",
     "text": [
      "C:\\Users\\samri\\AppData\\Local\\Temp\\ipykernel_3000\\3514595201.py:1: SettingWithCopyWarning: \n",
      "A value is trying to be set on a copy of a slice from a DataFrame.\n",
      "Try using .loc[row_indexer,col_indexer] = value instead\n",
      "\n",
      "See the caveats in the documentation: https://pandas.pydata.org/pandas-docs/stable/user_guide/indexing.html#returning-a-view-versus-a-copy\n",
      "  new_df['tags']=new_df['tags'].apply(stem)\n"
     ]
    }
   ],
   "source": [
    "new_df['tags']=new_df['tags'].apply(stem)"
   ]
  },
  {
   "cell_type": "markdown",
   "id": "5892f725-cf81-44eb-9973-1da95b1a61cd",
   "metadata": {},
   "source": [
    "## Training the model"
   ]
  },
  {
   "cell_type": "markdown",
   "id": "cc6a4484-7877-45c5-b60c-83f2402736d5",
   "metadata": {},
   "source": [
    "#### Here we perform text vectorisation using library"
   ]
  },
  {
   "cell_type": "code",
   "execution_count": 166,
   "id": "86fb8917-f107-4a7f-bbdb-553ae02d3635",
   "metadata": {},
   "outputs": [],
   "source": [
    "from sklearn.feature_extraction.text import CountVectorizer"
   ]
  },
  {
   "cell_type": "markdown",
   "id": "d02ee452-1023-4b4f-9428-8b5d255c166f",
   "metadata": {},
   "source": [
    "#### Tuning parameters"
   ]
  },
  {
   "cell_type": "code",
   "execution_count": 168,
   "id": "760128e7-231e-408a-8256-b9cfd8f80fa8",
   "metadata": {},
   "outputs": [],
   "source": [
    "cv=CountVectorizer(max_features=5000,stop_words='english')\n",
    "vectors=cv.fit_transform(new_df['tags']).toarray()#returns a sparse matrix"
   ]
  },
  {
   "cell_type": "code",
   "execution_count": 169,
   "id": "fe0d7ee9-2140-4592-ba74-90724b26c1ba",
   "metadata": {
    "scrolled": true
   },
   "outputs": [
    {
     "data": {
      "text/plain": [
       "array(['000', '007', '10', ..., 'zone', 'zoo', 'zooeydeschanel'],\n",
       "      dtype=object)"
      ]
     },
     "execution_count": 169,
     "metadata": {},
     "output_type": "execute_result"
    }
   ],
   "source": [
    "cv.get_feature_names_out()"
   ]
  },
  {
   "cell_type": "markdown",
   "id": "f9227ab7-4801-46ec-88a2-8a39a9b2937e",
   "metadata": {},
   "source": [
    "#### Now, one more problem arises\n",
    "#### The words 'loved','loves','love','loving', are getting counted as 'different' words(features) even theough they all mean the same. To resolve this issue, we use stemming"
   ]
  },
  {
   "cell_type": "code",
   "execution_count": 171,
   "id": "d560c0c9-c9d0-43cb-913c-5f93feb2bb54",
   "metadata": {},
   "outputs": [],
   "source": [
    "from sklearn.metrics.pairwise import cosine_similarity"
   ]
  },
  {
   "cell_type": "markdown",
   "id": "b13d9b3d-f051-47a6-9d34-097ce527b20a",
   "metadata": {},
   "source": [
    "#### similarity matrix stores the distance of each movie with every other movie, hence has a shape of 4806*4806(since we have 4806 movies). Remember, it's a matrix ie, a vector of vectors"
   ]
  },
  {
   "cell_type": "code",
   "execution_count": 173,
   "id": "7035c58d-e242-4bd5-96e4-ce6b14d810eb",
   "metadata": {},
   "outputs": [],
   "source": [
    "similarity=cosine_similarity(vectors)"
   ]
  },
  {
   "cell_type": "markdown",
   "id": "1ef34759-ace5-41ea-b74c-c249e7600a4e",
   "metadata": {},
   "source": [
    "### Problem: Sometime hence, we're gonna sort the similarity array to understand which movies are closer. But after sorting, we'll lose their indices, ie we cannot trace which movie is pointed to by the current distance in the sorted list. To solve this issue, use 'enumeration'"
   ]
  },
  {
   "cell_type": "code",
   "execution_count": 175,
   "id": "34debab2-495e-43d5-a023-a361d872fd4c",
   "metadata": {},
   "outputs": [
    {
     "data": {
      "text/plain": [
       "[(1214, 0.2867696673382022),\n",
       " (2405, 0.26901379342448517),\n",
       " (3728, 0.2605130246476754),\n",
       " (507, 0.255608593705383),\n",
       " (539, 0.25038669783359574)]"
      ]
     },
     "execution_count": 175,
     "metadata": {},
     "output_type": "execute_result"
    }
   ],
   "source": [
    "sorted(list(enumerate(similarity[0])),reverse=True,key=lambda x:x[1])[1:6]"
   ]
  },
  {
   "cell_type": "markdown",
   "id": "c23a30db-32cc-45af-a99e-1cb3740d4929",
   "metadata": {},
   "source": [
    "#### Notice here, we included the lambda function to sort against the second value, ie the distance, not the enumerated index"
   ]
  },
  {
   "cell_type": "markdown",
   "id": "363408ef-d2f1-4905-b138-4a8c7221d11e",
   "metadata": {},
   "source": [
    "##### How to fetch index of a movie given its title?"
   ]
  },
  {
   "cell_type": "code",
   "execution_count": 178,
   "id": "31a50cbf-e029-4d05-8015-0a59ab271bec",
   "metadata": {},
   "outputs": [
    {
     "data": {
      "text/plain": [
       "119"
      ]
     },
     "execution_count": 178,
     "metadata": {},
     "output_type": "execute_result"
    }
   ],
   "source": [
    "new_df[new_df['title']=='Batman Begins'].index[0]"
   ]
  },
  {
   "cell_type": "code",
   "execution_count": 231,
   "id": "81196b98-50bb-442d-ab99-53061df5e1f2",
   "metadata": {},
   "outputs": [],
   "source": [
    "def recommend(movie):\n",
    "    movie_index=new_df[new_df['title']==movie].index[0]\n",
    "    distances=similarity[movie_index]\n",
    "    movies_list=sorted(list(enumerate(similarity[0])),reverse=True,key=lambda x:x[1])[1:6]\n",
    "    for i in movies_list:\n",
    "        movie_id=i[0]#get the movie id(needed for displaying movie posters)\n",
    "        #fetch poster from api\n",
    "        print(new_df.iloc[i[0]].title)\n",
    "        "
   ]
  },
  {
   "cell_type": "code",
   "execution_count": 180,
   "id": "fb2175bf-e519-4cc8-8efb-ffa3e40c4b36",
   "metadata": {},
   "outputs": [],
   "source": [
    "# recommend('Avatar')"
   ]
  },
  {
   "cell_type": "code",
   "execution_count": 181,
   "id": "d4fe40fa-2267-473a-ae69-886e8c0f1efc",
   "metadata": {},
   "outputs": [],
   "source": [
    "import pickle"
   ]
  },
  {
   "cell_type": "code",
   "execution_count": 182,
   "id": "ea10f6d5-39d6-45c0-8bcc-1ffc5cffc1ed",
   "metadata": {},
   "outputs": [
    {
     "data": {
      "text/plain": [
       "array(['Avatar', \"Pirates of the Caribbean: At World's End\", 'Spectre',\n",
       "       ..., 'Signed, Sealed, Delivered', 'Shanghai Calling',\n",
       "       'My Date with Drew'], dtype=object)"
      ]
     },
     "execution_count": 182,
     "metadata": {},
     "output_type": "execute_result"
    }
   ],
   "source": [
    "new_df['title'].values"
   ]
  },
  {
   "cell_type": "code",
   "execution_count": 183,
   "id": "c01c7792-4b08-435e-b2fa-3d43670c978f",
   "metadata": {},
   "outputs": [],
   "source": [
    "pickle.dump(new_df.to_dict(),open('movie_dict.pkl','wb'))"
   ]
  },
  {
   "cell_type": "code",
   "execution_count": 184,
   "id": "5afde3d2-9cba-469c-b682-21d7bd6df63a",
   "metadata": {},
   "outputs": [],
   "source": [
    "pickle.dump(similarity,open('similarity.pkl','wb'))"
   ]
  },
  {
   "cell_type": "code",
   "execution_count": null,
   "id": "4dc0091e-11c4-4970-8054-50fbd58e30fd",
   "metadata": {},
   "outputs": [],
   "source": []
  }
 ],
 "metadata": {
  "kernelspec": {
   "display_name": "Python 3 (ipykernel)",
   "language": "python",
   "name": "python3"
  },
  "language_info": {
   "codemirror_mode": {
    "name": "ipython",
    "version": 3
   },
   "file_extension": ".py",
   "mimetype": "text/x-python",
   "name": "python",
   "nbconvert_exporter": "python",
   "pygments_lexer": "ipython3",
   "version": "3.12.4"
  }
 },
 "nbformat": 4,
 "nbformat_minor": 5
}
